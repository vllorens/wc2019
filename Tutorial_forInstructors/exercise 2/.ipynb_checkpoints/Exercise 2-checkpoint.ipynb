{
 "cells": [
  {
   "cell_type": "markdown",
   "metadata": {},
   "source": [
    "# Exercise 2. Parameter estimation in ODE models\n",
    "\n",
    "Tutorial: Pathway modeling using Ordinary Differential Equations\n",
    "\n",
    "Instructor: [Veronica Llorens-Rico](veronica.llorensrico@kuleuven.vib.be)\n",
    "\n",
    "Whole-cell Model Course; 9th April 2019\n",
    "\n",
    "Centre for Genomic Regulation, Barcelona\n",
    "\n",
    "\n",
    "## Write the objective function for this model in Python, and use a solver to estimate the parameters of the model\n",
    "\n",
    "In this exercise, we will start with some set of parameters derived from the literature, as in the original publication, and we will optimize these parameters to fit the experimental data as good as possible. Due to time constraints, we will only perform the optimization of a small set of parameters, whilst in the original publication all parameters are optimized.\n",
    "\n",
    "The model was firstly described in [Chassagnole et al, 2002](http://onlinelibrary.wiley.com/doi/10.1002/bit.10288/full). An implementation in Matlab of the model was obtained from [Villaverde et al, 2015](http://gingproc.iim.csic.es/biopredynbench/documentation.html) and recoded using Python.\n",
    "\n",
    "------\n",
    "\n",
    "First, we load the modules, data and custom functions that are required for this exercise"
   ]
  },
  {
   "cell_type": "code",
   "execution_count": null,
   "metadata": {},
   "outputs": [],
   "source": [
    "# LOAD MODULES\n",
    "# =====================================================\n",
    "import numpy as np\n",
    "from scipy.integrate import odeint\n",
    "from pymeigo import *\n",
    "import sys\n",
    "sys.path.insert(0, 'src')\n",
    "import warnings\n",
    "warnings.filterwarnings('ignore')\n",
    "\n",
    "# LOAD DATA AND MODEL\n",
    "# =====================================================\n",
    "# Import differential equations model------------------\n",
    "# Import parameters\n",
    "from equations import eqs\n",
    "from plotSim import plotSimulation\n",
    "from readData import *\n",
    "\n",
    "\n",
    "# INLINE PLOTS\n",
    "# =====================================================\n",
    "import pylab\n",
    "import matplotlib\n",
    "import matplotlib.pyplot as plt\n",
    "%matplotlib inline\n",
    "matplotlib.rcParams['figure.figsize'] = (15.0, 11.0)\n",
    "matplotlib.rcParams['font.size'] = 14"
   ]
  },
  {
   "cell_type": "markdown",
   "metadata": {},
   "source": [
    "### Exercise 2.1. A set of initial parameters has been extracted from the literature survey. Run the model with these parameters for a time long enough to  to confirm the system is in a steady state point. Concentrations in the steady state will be our initial conditions. Plot the time courses of the different metabolites. "
   ]
  },
  {
   "cell_type": "code",
   "execution_count": null,
   "metadata": {},
   "outputs": [],
   "source": [
    "# Load the initial parameters and the initial conditions\n",
    "initialPar = params('parameters.txt')\n",
    "initial_cond = [0.185,  # cdhap\n",
    "                0.103,  # ce4p\n",
    "                0.422,  # cpg2\n",
    "                2.254,  # cpg3\n",
    "                0.008,  # cpgp\n",
    "                0.393,  # crib5p\n",
    "                0.108,  # cribu5p\n",
    "                0.246,  # csed7p\n",
    "                0.137,  # cxyl5p\n",
    "                0.570,  # cf6p\n",
    "                0.334,  # cfdp\n",
    "                0.616,  # cg1p\n",
    "                3.307,  # cg6p\n",
    "                0.242,  # cgap\n",
    "                0.043,  # cglex\n",
    "                2.824,  # cpep\n",
    "                0.793,  # cpg\n",
    "                2.669]  # cpyr"
   ]
  },
  {
   "cell_type": "markdown",
   "metadata": {},
   "source": [
    "**Note:** In order to simulate a system of differential equations over time, we need to define the time limits using the function **`arange`** from NumPy. This function requires the following arguments:\n",
    "\n",
    "- Initial time\n",
    "\n",
    "- Final time\n",
    "\n",
    "- Timestep used to print the results\n",
    "\n",
    "To run the simulation, we use the function **`integrate.odeint`**. This function requires the following arguments:\n",
    "\n",
    "- Set of Ordinary Differential Equations, as those from the Exercise 1.\n",
    "\n",
    "- Set of initial conditions\n",
    "\n",
    "- Time limits\n",
    "\n",
    "- Arguments (parameters) required by the set of ODEs. In this case, the initial parameters extracted from the literature.\n",
    "\n",
    "After the simulation has been executed, we can plot the results by using a custom defined function, **`plotSimulation`**. This function requires the output of the simulation, as well as the integration time."
   ]
  },
  {
   "cell_type": "code",
   "execution_count": null,
   "metadata": {},
   "outputs": [],
   "source": [
    "# define time limits (use times < 0 as the equations at time 0 are set to introduce a perturbation)\n",
    "t = np.arange(-50, 0, 0.1)\n",
    "\n",
    "# integrate\n",
    "ds = integrate.odeint(eqs, initial_cond, t, args = (initialPar,))\n",
    "\n",
    "# plot the simulated time-courses of the different metabolites\n",
    "plotSimulation(ds, t)"
   ]
  },
  {
   "cell_type": "markdown",
   "metadata": {},
   "source": [
    "In the previous lines, we used `t<0` as in the model there are some equations that are uncoupled, and have been defined empirically (those for ADP, AMP, ATP, NADH, NADP and NADPH). These are dependent on time. In the steady state, the concentrations of these metabolites are unchanged. In the next exercise, we will apply a perturbation and then we will use `t>0` to incorporate the changes of these metabolites into the model. "
   ]
  },
  {
   "cell_type": "markdown",
   "metadata": {},
   "source": [
    "### Exercise 2.2. Run the model with these initial conditions from **t0=-10s** to **t=0s**. Run the model again but changing the initial value for external glucose concentration to 2mM (simulating a glucose pulse), from **t0=0s** to **t=350s**. Plot the results of the entire simulation, together with the experimental measurements of 9 metabolites. \n",
    "\n",
    "\n",
    "In the previous exercise, we observed that the initial concentrations were already in steady state as they were not changing over time. Thus we do not need to change the initial parameters. We will run the simulation for 10 seconds and then for 350 seconds more after the perturbation with the addition of glucose to the bioreactor. Experimental data from the timecourse is available for 9 of the metabolites of the model. We will use this data to see how the parameters that we have are able to reproduce the results of the model.\n",
    "\n",
    "-----\n",
    "\n",
    "First, we run the simulation from `t0=-10s` to `t=0s`, using the previous parameters and initial conditions."
   ]
  },
  {
   "cell_type": "code",
   "execution_count": null,
   "metadata": {},
   "outputs": [],
   "source": [
    "# Define time limits for the initial 10s phase\n",
    "#t = ######<<<>>>######\n",
    "\n",
    "# Integrate\n",
    "#ds = ######<<<>>>######"
   ]
  },
  {
   "cell_type": "markdown",
   "metadata": {},
   "source": [
    "Now, run the model again but changing the initial value for external glucose concentration to 2mM (simulating a glucose pulse), from `t0=0s` to `t=350s`. \n",
    "\n",
    "**Note:** The external glucose concentration has index 14 in the `initialPar` array."
   ]
  },
  {
   "cell_type": "code",
   "execution_count": null,
   "metadata": {},
   "outputs": [],
   "source": [
    "# Change glucose initial condition for this second simulation\n",
    "######<<<>>>######\n",
    "\n",
    "# Define time limits for this second phase of 350s\n",
    "#t2 = ######<<<>>>######\n",
    "\n",
    "# Integrate\n",
    "#ds2 = ######<<<>>>######"
   ]
  },
  {
   "cell_type": "markdown",
   "metadata": {},
   "source": [
    "Now, we have to join the data from the two independent simulations, before and after the perturbation, and plot. To join the two datasets, we use the function **`append`** from NumPy.  \n",
    "\n",
    "Before plotting, we load the experimental data using a custom function **`expData`** located in the `readData.py` file. \n",
    "\n",
    "The function **`plotSimulation`** has an optional argument, `experimentalData`, to provide the experimental data read from the file."
   ]
  },
  {
   "cell_type": "code",
   "execution_count": null,
   "metadata": {},
   "outputs": [],
   "source": [
    "# join the data from before and after the perturbation and plot\n",
    "ds = np.append(ds, ds2, axis = 0)\n",
    "t = np.append(t, t2)\n",
    "\n",
    "# load the experimental data to be plotted together with the simulations\n",
    "experimentData = expData('expValues.txt')\n",
    "\n",
    "# plot the entire simulation with the experimental data\n",
    "plotSimulation(ds, t, experimentalData = experimentData)"
   ]
  },
  {
   "cell_type": "markdown",
   "metadata": {},
   "source": [
    "### Exercise 2.3. Write an objective function that compares the experimental data measured for 9 metabolites in the model with the simulated data. Use PyMeigo to estimate the set of parameters that best reproduces the experimental data.\n",
    "\n",
    "\n",
    "**Meigo** is a global optimization toolbox (see [Egea et al, 2013](http://bmcbioinformatics.biomedcentral.com/articles/10.1186/1471-2105-15-136)). It has been specifically designed to solve global optimization problems in biology and bioinformatics. It offers different methods that can be used for parameter estimation. One of them (the one that will be used here) is called **enhanced Scatter Search (eSS)**. You can find more about the eSS algorithm [here](http://pubs.acs.org/doi/abs/10.1021/ie801717t).\n",
    "\n",
    "Meigo runs in R, but it offers a Python interface called **PyMeigo**. \n",
    "\n",
    "-----\n",
    "\n",
    "To run **PyMeigo**, we need to define which parameters need to be optimized. In order to constrain the search, we can define upper and lower bounds for each of the parameters to optimize. The algorithm will not search beyond those limits. We also need to define the *master* function. This is a function that runs the model with some values for the parameters to optimize, evaluates it according to our objective function, and tries to modify those parameters to minimize the value of this objective function.\n",
    "\n",
    "-----\n",
    "\n",
    "The *master* function has the following parts:\n",
    "\n",
    "- **PART 1**: Imports dependent modules and experimental data (explain columns)\n",
    "\n",
    "- **PART 2**: Defines the initial conditions (these we know, and will remain unchanged), runs the model with some parameters and gets the results of the simulation. These parameters need to be passed to the master function by PyMeigo, as these are the ones to optimized. \n",
    "\n",
    "- **PART 3**: Objective Function. Evaluates the results of the simulation by comparing to the experimental data. In our case, in the objective function we measure the deviation of the simulated data with the experimental data that we have for 9 of the metabolites. The more experiments, timepoints, and metabolites measured, the more accurate the result will be. \n",
    "\n",
    "The *master* function returns the value of the objective Function, which is what we want to minimize. \n",
    "\n",
    "-----\n",
    "\n",
    "For this exercise, we first need to edit the separate script **`objectiveFun.py`**, which contains the master function with the aforementioned three parts. \n",
    "\n",
    "-----\n",
    "\n",
    "In **PART 2**, edit the code to run the simulation, considering the adequate timespan. Edit the code to run the simulation with the adequate parameters. \n",
    "\n",
    "-----\n",
    "\n",
    "In **PART 3**, for each of the experimental data points, we identify the corresponding species and timepoint in our simulation. Then, the objective function value is updated. Edit the code to update the objective function value correctly, according to the Log-Likelihood cost function.\n",
    "\n",
    "<img src=\"img/daum_equation_1449765695879.png\">\n",
    "\n",
    "-----\n",
    "\n",
    "With these modifications in the **`objectiveFun.py`** code, we can now import this function and run PyMeigo to search for the optimal parameters."
   ]
  },
  {
   "cell_type": "code",
   "execution_count": null,
   "metadata": {},
   "outputs": [],
   "source": [
    "# Import the master function\n",
    "from objectiveFun import objFun "
   ]
  },
  {
   "cell_type": "markdown",
   "metadata": {},
   "source": [
    "Run the optimization with PyMeigo. First, define the upper and lower bounds for the parameters to optimize. Here, the bounds defined are not far from the original values (as they are already pretty optimized), to make the search faster. In real cases, a good choice without prior knowledge would be to multiply the initial values by 0.1 for the lower bound and by 10 for the upper bound."
   ]
  },
  {
   "cell_type": "code",
   "execution_count": null,
   "metadata": {},
   "outputs": [],
   "source": [
    "# Define the upper and lower bounds\n",
    "upperBound = [x*1.5 for x in initialPar]\n",
    "lowerBound = [x*0.75 for x in initialPar]\n",
    "\n",
    "# Now, convert the master function to R so that Meigo can run\n",
    "objfun_for_r=pyfunc2R(objFun)\n",
    "\n",
    "# Run PyMeigo. It requires only the objective function, and the upper and lower bounds for the parameters to optimize\n",
    "result_pymeigo = essR(f=objfun_for_r, x_U=upperBound, x_L=lowerBound)"
   ]
  },
  {
   "cell_type": "markdown",
   "metadata": {},
   "source": [
    "### Exercise 2.4. Extract the new set of parameters obtained with either solver and plot the time courses of the 9 metabolites. Add the experimental data points and evaluate the simulations.\n",
    "\n",
    "Here, we first extract the set of optimized parameters from the resuts of PyMeigo. Now, we can run the simulation of the perturbation for 350s, as in exercise 2.2, and plot the results. Do these new parameters fit best the data? "
   ]
  },
  {
   "cell_type": "code",
   "execution_count": null,
   "metadata": {},
   "outputs": [],
   "source": [
    "# First, we extract the results of PyMeigo as a list\n",
    "newPar = list(result_pymeigo.xbest)\n",
    "\n",
    "# Run the simulation of the perturbation, as in exercise 2.2, from t0=0 to t=350s, with the same initial conditions\n",
    "# (including the glucose pulse)\n",
    "t = ######<<<>>>######\n",
    "simulationNew = ######<<<>>>######\n",
    "\n",
    "# Plot the results of the simulation, with the experimental data\n",
    "plotSimulation(simulationNew, t, experimentalData=experimentData)\n"
   ]
  },
  {
   "cell_type": "markdown",
   "metadata": {},
   "source": [
    "In the original publication [Chassagnole et al, 2002](http://onlinelibrary.wiley.com/doi/10.1002/bit.10288/epdf), they only plot the datapoints occurring at t<=30s. Compare the results with the ones from the paper. What advantages or disadvantages may have to use only a subset of the data?\n",
    "\n",
    "<img src=\"img/result_paper.png\">"
   ]
  },
  {
   "cell_type": "code",
   "execution_count": null,
   "metadata": {},
   "outputs": [],
   "source": []
  }
 ],
 "metadata": {
  "kernelspec": {
   "display_name": "Python 2",
   "language": "python",
   "name": "python2"
  },
  "language_info": {
   "codemirror_mode": {
    "name": "ipython",
    "version": 2
   },
   "file_extension": ".py",
   "mimetype": "text/x-python",
   "name": "python",
   "nbconvert_exporter": "python",
   "pygments_lexer": "ipython2",
   "version": "2.7.15"
  }
 },
 "nbformat": 4,
 "nbformat_minor": 1
}
