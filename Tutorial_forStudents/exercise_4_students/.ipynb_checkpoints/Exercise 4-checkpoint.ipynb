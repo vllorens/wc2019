{
 "cells": [
  {
   "cell_type": "markdown",
   "metadata": {},
   "source": [
    "# Exercise 4. Metabolic control analysis\n",
    "\n",
    "Tutorial: Pathway modeling using Ordinary Differential Equations\n",
    "\n",
    "Instructor: [Veronica Llorens-Rico](veronica.llorensrico@kuleuven.vib.be)\n",
    "\n",
    "Whole-cell Model Course; 9th April 2019\n",
    "\n",
    "Centre for Genomic Regulation, Barcelona\n",
    "\n",
    "\n",
    "## Perform MCA of the Central Carbon Metabolism model\n",
    "\n",
    "Metabolic control analysis has a wide range of applications, interestingly in the field of metabolic engineering. By calculating Flux and Concentration control coefficients, we can determine which reactions and enzymes are more sensitive to perturbations.\n",
    "\n",
    "------\n",
    "\n",
    "The model was firstly described in [Chassagnole et al, 2002](http://onlinelibrary.wiley.com/doi/10.1002/bit.10288/full). An implementation in Matlab of the model was obtained from [Villaverde et al, 2015](http://gingproc.iim.csic.es/biopredynbench/documentation.html) and recoded using Python.\n",
    "\n",
    "------\n",
    "\n",
    "First, we load the modules, data and custom functions that are required for this exercise"
   ]
  },
  {
   "cell_type": "code",
   "execution_count": null,
   "metadata": {
    "collapsed": true
   },
   "outputs": [],
   "source": [
    "# LOAD MODULES\n",
    "# =====================================================\n",
    "import numpy as np\n",
    "import pandas as pd\n",
    "pd.set_option('display.max_columns', 500)\n",
    "from scipy.integrate import odeint\n",
    "import sys\n",
    "sys.path.insert(0, 'src')\n",
    "import numdifftools as ndt\n",
    "import warnings\n",
    "warnings.filterwarnings('ignore')\n",
    "\n",
    "# LOAD DATA AND MODEL\n",
    "# =====================================================\n",
    "# Import differential equations model------------------\n",
    "# Import parameters\n",
    "from fluxes import fluxcalc\n",
    "from readData import *\n",
    "import roadrunner"
   ]
  },
  {
   "cell_type": "markdown",
   "metadata": {},
   "source": [
    "### Exercise 4.1. Calculate the fluxes of each reaction in the model in the steady state situation. \n",
    "\n",
    "As mentioned in the presentation, fluxes for each reaction are calculated as the difference between the forward and reverse reaction velocities. *J = Vf - Vr*. This is equal to the calculated reaction rates. "
   ]
  },
  {
   "cell_type": "code",
   "execution_count": null,
   "metadata": {
    "collapsed": true
   },
   "outputs": [],
   "source": [
    "# Load the parameters and define the steady state conditions\n",
    "parameters = params('parameters.txt')\n",
    "initial_cond = [0.169491,    # cdhap\n",
    "                0.0988719,   # ce4p\n",
    "                0.39666,     # cpg2\n",
    "                2.1185,      # cpg3\n",
    "                0.00813025,  # cpgp\n",
    "                0.398943,    # crib5p\n",
    "                0.11126,     # cribu5p\n",
    "                0.273191,    # csed7p\n",
    "                0.138348,    # cxyl5p\n",
    "                0.597874,    # cf6p\n",
    "                0.279883,    # cfdp\n",
    "                0.64958,     # cg1p\n",
    "                3.46767,     # cg6p\n",
    "                0.22137,     # cgap\n",
    "                0.0552527,   # cglex\n",
    "                2.65434,     # cpep\n",
    "                0.804284,    # cpg\n",
    "                2.66951]     # cpyr\n"
   ]
  },
  {
   "cell_type": "markdown",
   "metadata": {},
   "source": [
    "To determine the fluxes, i.e., the reaction rates, under these steady state conditions, we have written a dedicated function **`fluxcalc`**, located in the **`fluxes.py`** file. Take a look at the file.\n",
    "\n",
    "The function is very similar to the one describing the system of ODEs of the model. However, this function returns the reaction rates instead of the concentrations of the different metabolites.\n",
    "\n",
    "The function requires only two arguments: the initial conditions, and the set of parameters of the model. "
   ]
  },
  {
   "cell_type": "code",
   "execution_count": null,
   "metadata": {},
   "outputs": [],
   "source": [
    "# Calculate the fluxe in the steady state\n",
    "fluxes_eq = fluxcalc(initial_cond, parameters)\n",
    "print fluxes_eq"
   ]
  },
  {
   "cell_type": "markdown",
   "metadata": {},
   "source": [
    "### Exercise 4.2. Calculate the matrix of Elasticities for all metabolites and all reactions in the model.\n",
    "\n",
    "To perform MCA, we will use the Python module **RoadRunner**. This is a module specifically designed to work with SBML systems biology models, and provides tools for loading, simulating, and analyzing these models. \n",
    "\n",
    "This module provides dedicated functions to run Metabolic Control Analysis, facilitating the analysis. As we have previously seen in the tutorial, derivating control coefficients from branched models is not a trivial problem. \n",
    "\n",
    "------\n",
    "\n",
    "First, we will load an SBML version of the model with the **RoadRunner** module."
   ]
  },
  {
   "cell_type": "code",
   "execution_count": null,
   "metadata": {
    "collapsed": true
   },
   "outputs": [],
   "source": [
    "# Import the SBML model of the Central Carbon Metabolism described in Chassagnole et al, 2002\n",
    "model = roadrunner.RoadRunner(\"SBML_glycolysis.xml\")"
   ]
  },
  {
   "cell_type": "markdown",
   "metadata": {},
   "source": [
    "The model is imported as a *RoadRunner* object. After importing the model, we have to ensure that all the metabolite concentrations are in steady state. We can calculate the steady state of the model using the **`steadyState`** function of the **RoadRunner** module. \n",
    "\n",
    "We can then extract the steady state values using the function **`getSteadyStateValues`**"
   ]
  },
  {
   "cell_type": "code",
   "execution_count": null,
   "metadata": {},
   "outputs": [],
   "source": [
    "# Calculate steady state\n",
    "model.steadyState()\n",
    "\n",
    "# Get steady state values\n",
    "model.getSteadyStateValues()"
   ]
  },
  {
   "cell_type": "markdown",
   "metadata": {},
   "source": [
    "Are these values similar to the ones that we used in the previous exercises?\n",
    "\n",
    "-----\n",
    "\n",
    "Now, we can calculate the enzyme elasticities with respect to all metabolites. Remember that this is calculated by derivating the reaction rate of a specific enzyme with respect to each of the metabolites, and then scaling. \n",
    "\n",
    "This can be done using the **`getScaledElasticityMatrix`** function from the **RoadRunner** module. "
   ]
  },
  {
   "cell_type": "code",
   "execution_count": null,
   "metadata": {
    "collapsed": true
   },
   "outputs": [],
   "source": [
    "# Obtain matrix of elasticities\n",
    "elasticities=model.getScaledElasticityMatrix()"
   ]
  },
  {
   "cell_type": "markdown",
   "metadata": {},
   "source": [
    "Before printing, it is useful to convert the elasticities array into a **Pandas** `DataFrame` object, much more adequate for visualizing here."
   ]
  },
  {
   "cell_type": "code",
   "execution_count": null,
   "metadata": {},
   "outputs": [],
   "source": [
    "# Convert the array into a Pandas DataFrame object and print\n",
    "namesMetabolites=['cdhap','ce4p','cf6p','cfdp','cg1p','cg6p','cgap','cpep','cpg', 'cpg2', 'cpg3', 'cpgp','cpyr','crib5p','cribu5p','csed7p','cxyl5p','cglex']\n",
    "namesReactionRates=['vALDO','vDAHPS','vDHAP','vE4P','vENO','vEXTER','vG1PAT','vG3PDH','vG6P','vG6PDH','vGAP','vGAPDH','vGLP','vMURSyNTH','vMethSynth','vPDH','vPEP','vPFK','vPG','vPG3','vPGDH','vPGI','vPGK','vPGM','vPGP','vPK','vPPK','vPTS','vR5PI','vRIB5P','vRibu5p','vRu5P','vSED7P','vSynth1','vSynth2','vTA','vTIS','vTKA','vTKB','vTRPSYNTH','vXYL5P','vf6P','vfdP','vpepCxylase','vpg2','vpyr','vrpGluMu','vsersynth']\n",
    "\n",
    "elasticities=pd.DataFrame(data=elasticities, index=namesReactionRates, columns=namesMetabolites)\n",
    "\n",
    "print elasticities"
   ]
  },
  {
   "cell_type": "markdown",
   "metadata": {},
   "source": [
    "Why is this matrix sparse?"
   ]
  },
  {
   "cell_type": "markdown",
   "metadata": {},
   "source": [
    "### Exercise 4.3. Determine the Flux Control Coefficient for every reaction on the glucose uptake. \n",
    "\n",
    "The glucose uptake is the first reaction of the system, and it is irreversible. Which reactions are the ones increasing the flux of glucose uptake? Which reactions have a negative effect? Consider only the reactions of the network, ignore dilution effects and also the external supply of glucose.\n",
    "\n",
    "For this exercise, we also use the **RoadRunner** module. \n",
    "\n",
    "The function to calculate the Flux Control Coefficients is **`getScaledFluxControlCoefficientMatrix`**"
   ]
  },
  {
   "cell_type": "code",
   "execution_count": null,
   "metadata": {},
   "outputs": [],
   "source": [
    "# Calculate and print Flux Control Coefficients, converting first to a Pandas DataFrame object\n",
    "FCCmatrix=model.getScaledFluxControlCoefficientMatrix()\n",
    "\n",
    "FCCdf=pd.DataFrame(data=FCCmatrix, index=namesReactionRates, columns=namesReactionRates)\n",
    "\n",
    "print FCCdf"
   ]
  },
  {
   "cell_type": "markdown",
   "metadata": {},
   "source": [
    "In this matrix, the columns indicate the 'cause', this is the reactions 'modified', and the rows the 'consequence', the effect in the fluxes.\n",
    "\n",
    "We can select the row referring to the flux of glucose uptake to better see which are the reactions influencing it"
   ]
  },
  {
   "cell_type": "code",
   "execution_count": null,
   "metadata": {
    "collapsed": true
   },
   "outputs": [],
   "source": [
    "# Select the row corresponding to the glucose uptake\n",
    "glcUptake=FCCdf.loc['vPTS']\n",
    "\n",
    "print glcUptake"
   ]
  },
  {
   "cell_type": "markdown",
   "metadata": {},
   "source": [
    "Ignoring the external glucose supply (vEXTER), \n",
    "\n",
    "Which reactions *increase* the Flux of glucose uptake the most?\n",
    "\n",
    "Which ones *decrease* this Flux the most?\n",
    "\n",
    "-------\n",
    "\n",
    "Test the summation theorem. Do the perturbations affecting the same flux add up to one?"
   ]
  },
  {
   "cell_type": "code",
   "execution_count": null,
   "metadata": {
    "collapsed": true
   },
   "outputs": [],
   "source": [
    "# Test the summation theorem by adding all the Flux Control Coefficients of all the enzymes over the same reaction\n",
    "np.sum(FCCmatrix[[1], ])"
   ]
  },
  {
   "cell_type": "markdown",
   "metadata": {},
   "source": [
    "### Exercise 4.4. Determine the Concentration Control Coefficient for every reaction on the pyruvate concentration. \n",
    "\n",
    "Imagine that from an engineering point of view, we want to increase the concentration of pyruvate in our system. To do so, we can determine the Concentration Control Coefficients for all reactions on pyruvate, and then modify enzyme concentrations (i.e. overexpress or knock-down) accordingly.\n",
    "\n",
    "Calculate the Concentration Control Coefficient matrix using the function **`getScaledConcentrationControlCoefficientMatrix`**."
   ]
  },
  {
   "cell_type": "code",
   "execution_count": null,
   "metadata": {
    "collapsed": true
   },
   "outputs": [],
   "source": [
    "# Calculate and print Concentration Control Coefficients\n",
    "CCCmatrix=model.getScaledConcentrationControlCoefficientMatrix()\n",
    "\n",
    "CCCdf=pd.DataFrame(data=CCCmatrix, index=namesMetabolites, columns=namesReactionRates)\n",
    "\n",
    "print CCCdf"
   ]
  },
  {
   "cell_type": "markdown",
   "metadata": {},
   "source": [
    "In this matrix, the columns indicate the 'cause', that is the reactions 'modified', and the rows the 'consequence', the effect in the different metabolite concentrations. Select the row corresponding to the pyruvate concentration.\n",
    "\n",
    "Get the row corresponding to the pyruvate concentration to see how it can be affected by the different reaction rates."
   ]
  },
  {
   "cell_type": "code",
   "execution_count": null,
   "metadata": {
    "collapsed": true
   },
   "outputs": [],
   "source": [
    "# Select the row corresponding to the pyruvate concentration\n",
    "pyruvate=CCCdf.loc['cpyr']\n",
    "\n",
    "print pyruvate"
   ]
  },
  {
   "cell_type": "markdown",
   "metadata": {},
   "source": [
    "Ignoring the external glucose supply,\n",
    "\n",
    "What is the reaction with the largest influence in *increasing* pyruvate concentration?\n",
    "\n",
    "What is the reaction with the largest influence in *decreasing* pyruvate concentration?"
   ]
  },
  {
   "cell_type": "code",
   "execution_count": null,
   "metadata": {
    "collapsed": true
   },
   "outputs": [],
   "source": []
  },
  {
   "cell_type": "code",
   "execution_count": null,
   "metadata": {
    "collapsed": true
   },
   "outputs": [],
   "source": []
  },
  {
   "cell_type": "code",
   "execution_count": null,
   "metadata": {
    "collapsed": true
   },
   "outputs": [],
   "source": []
  }
 ],
 "metadata": {
  "kernelspec": {
   "display_name": "Python 2",
   "language": "python",
   "name": "python2"
  },
  "language_info": {
   "codemirror_mode": {
    "name": "ipython",
    "version": 2
   },
   "file_extension": ".py",
   "mimetype": "text/x-python",
   "name": "python",
   "nbconvert_exporter": "python",
   "pygments_lexer": "ipython2",
   "version": "2.7.15"
  }
 },
 "nbformat": 4,
 "nbformat_minor": 1
}
