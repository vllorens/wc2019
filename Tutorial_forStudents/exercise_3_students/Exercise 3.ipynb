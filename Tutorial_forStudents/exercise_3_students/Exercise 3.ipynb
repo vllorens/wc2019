{
 "cells": [
  {
   "cell_type": "markdown",
   "metadata": {},
   "source": [
    "# Exercise 3. Stability analysis\n",
    "\n",
    "Tutorial: Pathway modeling using Ordinary Differential Equations\n",
    "\n",
    "Instructor: [Veronica Llorens-Rico](veronica.llorensrico@kuleuven.vib.be)\n",
    "\n",
    "Whole-cell Model Course; 9th April 2019\n",
    "\n",
    "Centre for Genomic Regulation, Barcelona\n",
    "\n",
    "\n",
    "## Assess the stability of the steady state described in the previous exercises\n",
    "\n",
    "In the previous exercise, we had a system in steady state which we perturbed with the glucose pulse. What happens to the system when it's perturbed? Does it go back to the same steady state? In other words, is this steady state stable? We will assess this in the following exercise.\n",
    "\n",
    "------\n",
    "\n",
    "The model was firstly described in [Chassagnole et al, 2002](http://onlinelibrary.wiley.com/doi/10.1002/bit.10288/full). An implementation in Matlab of the model was obtained from [Villaverde et al, 2015](http://gingproc.iim.csic.es/biopredynbench/documentation.html) and recoded using Python.\n",
    "\n",
    "------\n",
    "\n",
    "First, we load the modules, data and custom functions that are required for this exercise"
   ]
  },
  {
   "cell_type": "code",
   "execution_count": null,
   "metadata": {
    "collapsed": true
   },
   "outputs": [],
   "source": [
    "# LOAD MODULES\n",
    "# ===================================================================================\n",
    "import numpy as np\n",
    "from scipy.integrate import odeint\n",
    "import sys\n",
    "sys.path.insert(0, 'src')  # necessary to work both in PyCharm and terminal\n",
    "import numdifftools as ndt\n",
    "import warnings\n",
    "warnings.filterwarnings('ignore')\n",
    "\n",
    "# LOAD DATA AND MODEL\n",
    "# ===================================================================================\n",
    "# Import differential equations model------------------------------------------------\n",
    "# Import parameters\n",
    "from equations_noperturbation import eqs_nopt\n",
    "from equations import eqs\n",
    "from plotSim import plotSimulation\n",
    "from readData import *\n",
    "\n",
    "# INLINE PLOTS\n",
    "# =====================================================\n",
    "import pylab\n",
    "import matplotlib\n",
    "import matplotlib.pyplot as plt\n",
    "%matplotlib inline\n",
    "matplotlib.rcParams['figure.figsize'] = (15.0, 11.0)\n",
    "matplotlib.rcParams['font.size'] = 14"
   ]
  },
  {
   "cell_type": "markdown",
   "metadata": {},
   "source": [
    "### Exercise 3.1. Run the model with the estimated parameters, and the glucose perturbation, for a long time.\n",
    "\n",
    "Run the model as in the previous exercise between t0=0 and t=1000. Does the model go back to the initial steady state point? Does it diverge? Does it oscillate?"
   ]
  },
  {
   "cell_type": "code",
   "execution_count": null,
   "metadata": {},
   "outputs": [],
   "source": [
    "# First, we load the parameters and the initial conditions.\n",
    "parameters = params('parameters.txt')\n",
    "initial_cond = [0.185,  # cdhap\n",
    "                0.103,  # ce4p\n",
    "                0.422,  # cpg2\n",
    "                2.254,  # cpg3\n",
    "                0.008,  # cpgp\n",
    "                0.393,  # crib5p\n",
    "                0.108,  # cribu5p\n",
    "                0.246,  # csed7p\n",
    "                0.137,  # cxyl5p\n",
    "                0.570,  # cf6p\n",
    "                0.334,  # cfdp\n",
    "                0.616,  # cg1p\n",
    "                3.307,  # cg6p\n",
    "                0.242,  # cgap\n",
    "                2,      # cglex\n",
    "                2.824,  # cpep\n",
    "                0.793,  # cpg\n",
    "                2.669]  # cpyr\n",
    "\n",
    "\n",
    "# Then, we run the model, defining the time span, and plot the results\n",
    "t = ######<<<>>>######\n",
    "ds = ######<<<>>>######\n",
    "plotSimulation(ds, t)"
   ]
  },
  {
   "cell_type": "markdown",
   "metadata": {},
   "source": [
    "### Exercise 3.2. Calculate the Jacobian matrix of the model and solve it for the steady state point. Determine the eigenvalues of this matrix and describe the type of steady state. \n",
    "\n",
    "**Note:** since the simulation above has run for a long time, we assume that the end point of this simulation corresponds to the steady state.\n",
    "**Hint:** to index the last element of an array, use the index \"-1\""
   ]
  },
  {
   "cell_type": "code",
   "execution_count": null,
   "metadata": {
    "collapsed": true
   },
   "outputs": [],
   "source": [
    "# Define the steady state concentrations of all metabolites as the end point concentrations of the simulation above.\n",
    "steadystate_cond = ######<<<>>>######"
   ]
  },
  {
   "cell_type": "markdown",
   "metadata": {},
   "source": [
    "As there is no perturbation, we use a modified version of the **`equations.py`** script that does not account for the time dependencies of the NADH, NADP, NADPH, ATP, ADP and AMP. This is the **`equations_noperturbation.py`**, from which the eqs function (**`eqs_nopt`**) has already been imported.\n",
    "\n",
    "The function that computes the Jacobian for a system of Ordinary Differential Equations such as the one presented here is **`ndt.Jacobian`**. The only required argument is the equations function."
   ]
  },
  {
   "cell_type": "code",
   "execution_count": null,
   "metadata": {
    "collapsed": true
   },
   "outputs": [],
   "source": [
    "# Calculate the Jacobian for the modified equations\n",
    "Jacob = ndt.Jacobian(eqs_nopt)"
   ]
  },
  {
   "cell_type": "markdown",
   "metadata": {},
   "source": [
    "Now, once the Jacobian matrix has been calculated, we need to pass the steady state concentrations (same as initial conditions) to solve the Jacobian for the steady state point. They need first to be converted to a NumPy array."
   ]
  },
  {
   "cell_type": "code",
   "execution_count": null,
   "metadata": {
    "collapsed": true
   },
   "outputs": [],
   "source": [
    "# Pass steady state concentrations as a NumPy array\n",
    "j_matrix_solved = Jacob(np.array(steadystate_cond))"
   ]
  },
  {
   "cell_type": "markdown",
   "metadata": {},
   "source": [
    "With the function **`linalg.eig`** from `NumPy` we can get the eigenvalues of a square matrix. This function returns the eigenvalues and the eigenvectors. We are only interested in the first."
   ]
  },
  {
   "cell_type": "code",
   "execution_count": null,
   "metadata": {
    "collapsed": true
   },
   "outputs": [],
   "source": [
    "# Extract the eigenvalues of the Jacobian matrix\n",
    "eigenvalues = np.linalg.eig(j_matrix_solved)[0]"
   ]
  },
  {
   "cell_type": "markdown",
   "metadata": {},
   "source": [
    "Now print the eigenvalues. Can you determine the type of steady state? Does any of the eigenvalues have an imaginary part? \n",
    "\n",
    "Does this coincide with your observation from exercise 3.1?"
   ]
  },
  {
   "cell_type": "code",
   "execution_count": null,
   "metadata": {
    "collapsed": true
   },
   "outputs": [],
   "source": [
    "print eigenvalues"
   ]
  },
  {
   "cell_type": "markdown",
   "metadata": {},
   "source": [
    "### Exercise 3.3. In the model, we have small dilution effects. How they affect the steady state?\n",
    "\n",
    "In the model, we have small dillution effects (D=0.278e-4 s-1). Do they affect how the system responds after a perturbation? The dilution effects may affect concentrations of metabolites. In this case, the time constant is 1/D = 35971s, ~10 hours.\n",
    "\n",
    "The reciprocal absolute values of the real part of the eigenvalues are the time constants of the decline (determining how long takes to the system to go back to the steady state). Calculate these values and compare them with the dilution rates.\n",
    "\n",
    "------\n",
    "\n",
    "Eigenvalues have a real and an imaginary part. First, we extract the real part using the function **`real`** from NumPy:"
   ]
  },
  {
   "cell_type": "code",
   "execution_count": null,
   "metadata": {
    "collapsed": true
   },
   "outputs": [],
   "source": [
    "# Extract the real part of the eigenvalues\n",
    "eig_real = np.real(eigenvalues)"
   ]
  },
  {
   "cell_type": "markdown",
   "metadata": {},
   "source": [
    "The reciprocal of X is calculated as 1/X"
   ]
  },
  {
   "cell_type": "code",
   "execution_count": null,
   "metadata": {
    "collapsed": true
   },
   "outputs": [],
   "source": [
    "# Now we find the reciprocals of the real part\n",
    "reciprocals = abs(1/eig_real)"
   ]
  },
  {
   "cell_type": "markdown",
   "metadata": {},
   "source": [
    "Compare these values with the dilution rate. Are they higher, lower or of the same order? Is dilution affecting how the system behaves? **Note: ** these values have units of s. "
   ]
  },
  {
   "cell_type": "code",
   "execution_count": null,
   "metadata": {
    "collapsed": true
   },
   "outputs": [],
   "source": [
    "print reciprocals"
   ]
  },
  {
   "cell_type": "code",
   "execution_count": null,
   "metadata": {
    "collapsed": true
   },
   "outputs": [],
   "source": []
  }
 ],
 "metadata": {
  "kernelspec": {
   "display_name": "Python 2",
   "language": "python",
   "name": "python2"
  },
  "language_info": {
   "codemirror_mode": {
    "name": "ipython",
    "version": 2
   },
   "file_extension": ".py",
   "mimetype": "text/x-python",
   "name": "python",
   "nbconvert_exporter": "python",
   "pygments_lexer": "ipython2",
   "version": "2.7.15"
  }
 },
 "nbformat": 4,
 "nbformat_minor": 1
}
